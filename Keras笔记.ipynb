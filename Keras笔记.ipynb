{
  "nbformat": 4,
  "nbformat_minor": 0,
  "metadata": {
    "kernelspec": {
      "display_name": "Python 3",
      "language": "python",
      "name": "python3"
    },
    "language_info": {
      "codemirror_mode": {
        "name": "ipython",
        "version": 3
      },
      "file_extension": ".py",
      "mimetype": "text/x-python",
      "name": "python",
      "nbconvert_exporter": "python",
      "pygments_lexer": "ipython3",
      "version": "3.7.4"
    },
    "colab": {
      "name": "Keras笔记.ipynb",
      "provenance": [],
      "toc_visible": true,
      "include_colab_link": true
    }
  },
  "cells": [
    {
      "cell_type": "markdown",
      "metadata": {
        "id": "view-in-github",
        "colab_type": "text"
      },
      "source": [
        "<a href=\"https://colab.research.google.com/github/liulixiang1988/research/blob/master/Keras%E7%AC%94%E8%AE%B0.ipynb\" target=\"_parent\"><img src=\"https://colab.research.google.com/assets/colab-badge.svg\" alt=\"Open In Colab\"/></a>"
      ]
    },
    {
      "cell_type": "markdown",
      "metadata": {
        "id": "RYyfvCb4XVEp",
        "colab_type": "text"
      },
      "source": [
        "# Keras笔记\n",
        "\n",
        "## Keras简介"
      ]
    },
    {
      "cell_type": "markdown",
      "metadata": {
        "id": "SLmVDvwTXVEr",
        "colab_type": "text"
      },
      "source": [
        "## Keras安装\n",
        "\n",
        "需要安装的包：\n",
        "\n",
        "- NumPy\n",
        "- SciPy\n",
        "- Pyyaml: 用于模块加载和保存\n",
        "- Matplotlib\n",
        "- h5py:一些数据集用hdf5格式存储的\n",
        "\n",
        "因为keras只是前端，因此也依赖后端，如tensorflow.\n",
        "\n",
        "上面安装完后就能可以安装keras了。\n",
        "\n",
        "```\n",
        "pip install keras\n",
        "```\n",
        "\n",
        "user目录下的`.keras/keras.json`定义了keras的配置。"
      ]
    }
  ]
}